{
 "cells": [
  {
   "cell_type": "code",
   "execution_count": null,
   "metadata": {},
   "outputs": [],
   "source": [
    "#! /usr/bin/python3\n",
    "# -*- coding: utf-8 -*-\n",
    "\n",
    "un = [ [0, 1, 0],\n",
    "       [1, 1, 0],\n",
    "       [0, 1, 0],\n",
    "       [0, 1, 0],\n",
    "       [0, 1, 0]]\n",
    "\n",
    "zéro=[ [0, 1, 0],\n",
    "       [1, 0, 1],\n",
    "       [1, 0, 1],\n",
    "       [1, 0, 1],\n",
    "       [0, 1, 0]]\n",
    "       \n",
    "deux =[[1, 1, 0],\n",
    "       [0, 0, 1],\n",
    "       [0, 1, 0],\n",
    "       [1, 0, 0],\n",
    "       [1, 1, 1]]\n",
    "\n",
    "trois=[[1, 1, 0],\n",
    "       [0, 0, 1],\n",
    "       [0, 1, 0],\n",
    "       [0, 0, 1],\n",
    "       [1, 1, 0]]\n",
    "\n",
    "quatre=[[0, 1, 0],\n",
    "        [1, 0, 0],\n",
    "        [1, 1, 1],\n",
    "        [0, 1, 0],\n",
    "        [0, 1, 0]]\n",
    "\n",
    "cinq=[ [1, 1, 1],\n",
    "       [1, 0, 0],\n",
    "       [1, 1, 0],\n",
    "       [0, 0, 1],\n",
    "       [1, 1, 0]]\n",
    "\n",
    "six= [ [0, 1, 0],\n",
    "       [1, 0, 0],\n",
    "       [1, 1, 1],\n",
    "       [1, 0, 1],\n",
    "       [0, 1, 0]]\n",
    "\n",
    "sept  =[[1, 1, 1],\n",
    "        [0, 0, 1],\n",
    "        [0, 1, 0],\n",
    "        [1, 0, 0],\n",
    "        [1, 0, 0]]\n",
    "\n",
    "huit=[ [1, 1, 1],\n",
    "       [1, 0, 1],\n",
    "       [0, 1, 0],\n",
    "       [1, 0, 1],\n",
    "       [1, 1, 1]]\n",
    "\n",
    "neuf=[ [0, 1, 0],\n",
    "       [1, 0, 1],\n",
    "       [0, 1, 1],\n",
    "       [0, 0, 1],\n",
    "       [1, 1, 0]]\n"
   ]
  },
  {
   "cell_type": "code",
   "execution_count": null,
   "metadata": {},
   "outputs": [],
   "source": [
    "TOUT=[(zéro, 0), (un,1), (deux,2), (trois,3), (quatre,4), (cinq,5), (six,6), (sept,7), (huit,8), (neuf,9)]\n",
    "# Listes des couples (image, chiffre qu'elle représente)"
   ]
  },
  {
   "cell_type": "code",
   "execution_count": null,
   "metadata": {},
   "outputs": [],
   "source": [
    "import numpy.random as rd"
   ]
  },
  {
   "cell_type": "code",
   "execution_count": null,
   "metadata": {},
   "outputs": [],
   "source": [
    "def nvLigne(n):\n",
    "    res=[]\n",
    "    for i in range(n):\n",
    "        res.append(2*rd.rand()-1)\n",
    "    return res\n",
    "\n",
    "def nvMat(n,p):\n",
    "    res=[]\n",
    "    for i in range(n):\n",
    "        res.append(nvLigne(p))\n",
    "    return res\n",
    "\n",
    "def init_P(n,p,q):\n",
    "    \"\"\" Renvoie une matrice de format (n,p,q) remplie de flottant aléatoires dans [0,1[.\"\"\"\n",
    "    res=[]\n",
    "    for i in range(n):\n",
    "        res.append( nvMat(p,q))\n",
    "    return res"
   ]
  },
  {
   "cell_type": "code",
   "execution_count": null,
   "metadata": {},
   "outputs": [],
   "source": [
    "P=init_P(10, 5, 3)"
   ]
  },
  {
   "cell_type": "code",
   "execution_count": null,
   "metadata": {},
   "outputs": [],
   "source": [
    "P"
   ]
  },
  {
   "cell_type": "code",
   "execution_count": null,
   "metadata": {},
   "outputs": [],
   "source": []
  },
  {
   "cell_type": "code",
   "execution_count": null,
   "metadata": {},
   "outputs": [],
   "source": []
  },
  {
   "cell_type": "code",
   "execution_count": null,
   "metadata": {},
   "outputs": [],
   "source": []
  },
  {
   "cell_type": "code",
   "execution_count": null,
   "metadata": {},
   "outputs": [],
   "source": []
  }
 ],
 "metadata": {
  "kernelspec": {
   "display_name": "Python 3",
   "language": "python",
   "name": "python3"
  },
  "language_info": {
   "codemirror_mode": {
    "name": "ipython",
    "version": 3
   },
   "file_extension": ".py",
   "mimetype": "text/x-python",
   "name": "python",
   "nbconvert_exporter": "python",
   "pygments_lexer": "ipython3",
   "version": "3.8.6"
  }
 },
 "nbformat": 4,
 "nbformat_minor": 4
}
